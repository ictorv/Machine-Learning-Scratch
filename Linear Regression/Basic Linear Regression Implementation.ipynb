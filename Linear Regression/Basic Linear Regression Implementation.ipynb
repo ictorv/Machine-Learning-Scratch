{
 "cells": [
  {
   "cell_type": "markdown",
   "id": "9e525cc1",
   "metadata": {
    "papermill": {
     "duration": 0.006823,
     "end_time": "2024-01-15T14:24:06.130950",
     "exception": false,
     "start_time": "2024-01-15T14:24:06.124127",
     "status": "completed"
    },
    "tags": []
   },
   "source": [
    "#  <center> Basic Linear Regression </center>"
   ]
  },
  {
   "cell_type": "code",
   "execution_count": 1,
   "id": "f05146e7",
   "metadata": {
    "_cell_guid": "b1076dfc-b9ad-4769-8c92-a6c4dae69d19",
    "_uuid": "8f2839f25d086af736a60e9eeb907d3b93b6e0e5",
    "execution": {
     "iopub.execute_input": "2024-01-15T14:24:06.145690Z",
     "iopub.status.busy": "2024-01-15T14:24:06.145198Z",
     "iopub.status.idle": "2024-01-15T14:24:06.595145Z",
     "shell.execute_reply": "2024-01-15T14:24:06.593721Z"
    },
    "papermill": {
     "duration": 0.460945,
     "end_time": "2024-01-15T14:24:06.598300",
     "exception": false,
     "start_time": "2024-01-15T14:24:06.137355",
     "status": "completed"
    },
    "tags": []
   },
   "outputs": [],
   "source": [
    "# Importing Requirements\n",
    "import numpy as np\n",
    "import pandas as pd"
   ]
  },
  {
   "cell_type": "markdown",
   "id": "6f9c834e",
   "metadata": {
    "papermill": {
     "duration": 0.005864,
     "end_time": "2024-01-15T14:24:06.610495",
     "exception": false,
     "start_time": "2024-01-15T14:24:06.604631",
     "status": "completed"
    },
    "tags": []
   },
   "source": [
    "## Data Information"
   ]
  },
  {
   "cell_type": "code",
   "execution_count": 2,
   "id": "c2b21acb",
   "metadata": {
    "execution": {
     "iopub.execute_input": "2024-01-15T14:24:06.624796Z",
     "iopub.status.busy": "2024-01-15T14:24:06.624237Z",
     "iopub.status.idle": "2024-01-15T14:24:06.648990Z",
     "shell.execute_reply": "2024-01-15T14:24:06.647496Z"
    },
    "papermill": {
     "duration": 0.035388,
     "end_time": "2024-01-15T14:24:06.651980",
     "exception": false,
     "start_time": "2024-01-15T14:24:06.616592",
     "status": "completed"
    },
    "tags": []
   },
   "outputs": [],
   "source": [
    "# Loading Data\n",
    "df=pd.read_csv('/kaggle/input/salary-dataset-simple-linear-regression/Salary_dataset.csv')"
   ]
  },
  {
   "cell_type": "code",
   "execution_count": 3,
   "id": "c1e7ae41",
   "metadata": {
    "execution": {
     "iopub.execute_input": "2024-01-15T14:24:06.666690Z",
     "iopub.status.busy": "2024-01-15T14:24:06.666242Z",
     "iopub.status.idle": "2024-01-15T14:24:06.695600Z",
     "shell.execute_reply": "2024-01-15T14:24:06.694501Z"
    },
    "papermill": {
     "duration": 0.040326,
     "end_time": "2024-01-15T14:24:06.698735",
     "exception": false,
     "start_time": "2024-01-15T14:24:06.658409",
     "status": "completed"
    },
    "tags": []
   },
   "outputs": [
    {
     "data": {
      "text/html": [
       "<div>\n",
       "<style scoped>\n",
       "    .dataframe tbody tr th:only-of-type {\n",
       "        vertical-align: middle;\n",
       "    }\n",
       "\n",
       "    .dataframe tbody tr th {\n",
       "        vertical-align: top;\n",
       "    }\n",
       "\n",
       "    .dataframe thead th {\n",
       "        text-align: right;\n",
       "    }\n",
       "</style>\n",
       "<table border=\"1\" class=\"dataframe\">\n",
       "  <thead>\n",
       "    <tr style=\"text-align: right;\">\n",
       "      <th></th>\n",
       "      <th>Unnamed: 0</th>\n",
       "      <th>YearsExperience</th>\n",
       "      <th>Salary</th>\n",
       "    </tr>\n",
       "  </thead>\n",
       "  <tbody>\n",
       "    <tr>\n",
       "      <th>0</th>\n",
       "      <td>0</td>\n",
       "      <td>1.2</td>\n",
       "      <td>39344.0</td>\n",
       "    </tr>\n",
       "    <tr>\n",
       "      <th>1</th>\n",
       "      <td>1</td>\n",
       "      <td>1.4</td>\n",
       "      <td>46206.0</td>\n",
       "    </tr>\n",
       "    <tr>\n",
       "      <th>2</th>\n",
       "      <td>2</td>\n",
       "      <td>1.6</td>\n",
       "      <td>37732.0</td>\n",
       "    </tr>\n",
       "    <tr>\n",
       "      <th>3</th>\n",
       "      <td>3</td>\n",
       "      <td>2.1</td>\n",
       "      <td>43526.0</td>\n",
       "    </tr>\n",
       "    <tr>\n",
       "      <th>4</th>\n",
       "      <td>4</td>\n",
       "      <td>2.3</td>\n",
       "      <td>39892.0</td>\n",
       "    </tr>\n",
       "  </tbody>\n",
       "</table>\n",
       "</div>"
      ],
      "text/plain": [
       "   Unnamed: 0  YearsExperience   Salary\n",
       "0           0              1.2  39344.0\n",
       "1           1              1.4  46206.0\n",
       "2           2              1.6  37732.0\n",
       "3           3              2.1  43526.0\n",
       "4           4              2.3  39892.0"
      ]
     },
     "execution_count": 3,
     "metadata": {},
     "output_type": "execute_result"
    }
   ],
   "source": [
    "# Data\n",
    "df.head()"
   ]
  },
  {
   "cell_type": "code",
   "execution_count": 4,
   "id": "2a797da0",
   "metadata": {
    "execution": {
     "iopub.execute_input": "2024-01-15T14:24:06.714151Z",
     "iopub.status.busy": "2024-01-15T14:24:06.713692Z",
     "iopub.status.idle": "2024-01-15T14:24:07.069245Z",
     "shell.execute_reply": "2024-01-15T14:24:07.068110Z"
    },
    "papermill": {
     "duration": 0.366581,
     "end_time": "2024-01-15T14:24:07.072111",
     "exception": false,
     "start_time": "2024-01-15T14:24:06.705530",
     "status": "completed"
    },
    "tags": []
   },
   "outputs": [
    {
     "data": {
      "text/plain": [
       "Text(0, 0.5, 'Salary in LPA')"
      ]
     },
     "execution_count": 4,
     "metadata": {},
     "output_type": "execute_result"
    },
    {
     "data": {
      "image/png": "[encoded data removed]",
      "text/plain": [
       "<Figure size 640x480 with 1 Axes>"
      ]
     },
     "metadata": {},
     "output_type": "display_data"
    }
   ],
   "source": [
    "import matplotlib.pyplot as plt\n",
    "plt.scatter(x=df['YearsExperience'],y=df['Salary'],color='red')\n",
    "plt.xlabel('Year of Experience')\n",
    "plt.ylabel('Salary in LPA')"
   ]
  },
  {
   "cell_type": "markdown",
   "id": "2d87f8ae",
   "metadata": {
    "papermill": {
     "duration": 0.006879,
     "end_time": "2024-01-15T14:24:07.086282",
     "exception": false,
     "start_time": "2024-01-15T14:24:07.079403",
     "status": "completed"
    },
    "tags": []
   },
   "source": [
    "## Input and Output"
   ]
  },
  {
   "cell_type": "code",
   "execution_count": 5,
   "id": "b0944d55",
   "metadata": {
    "execution": {
     "iopub.execute_input": "2024-01-15T14:24:07.102018Z",
     "iopub.status.busy": "2024-01-15T14:24:07.101620Z",
     "iopub.status.idle": "2024-01-15T14:24:07.112153Z",
     "shell.execute_reply": "2024-01-15T14:24:07.110918Z"
    },
    "papermill": {
     "duration": 0.021509,
     "end_time": "2024-01-15T14:24:07.114792",
     "exception": false,
     "start_time": "2024-01-15T14:24:07.093283",
     "status": "completed"
    },
    "tags": []
   },
   "outputs": [],
   "source": [
    "# Getting Input and Output Data\n",
    "X=df.iloc[:,1:2]\n",
    "y=df.iloc[:,-1]"
   ]
  },
  {
   "cell_type": "code",
   "execution_count": 6,
   "id": "c8188383",
   "metadata": {
    "execution": {
     "iopub.execute_input": "2024-01-15T14:24:07.131810Z",
     "iopub.status.busy": "2024-01-15T14:24:07.131391Z",
     "iopub.status.idle": "2024-01-15T14:24:08.809114Z",
     "shell.execute_reply": "2024-01-15T14:24:08.807767Z"
    },
    "papermill": {
     "duration": 1.690808,
     "end_time": "2024-01-15T14:24:08.813038",
     "exception": false,
     "start_time": "2024-01-15T14:24:07.122230",
     "status": "completed"
    },
    "tags": []
   },
   "outputs": [],
   "source": [
    "# Train Test Split\n",
    "from sklearn.model_selection import train_test_split\n",
    "X_train,X_test,y_train,y_test=train_test_split(X,y,test_size=0.33,random_state=42)"
   ]
  },
  {
   "cell_type": "code",
   "execution_count": 7,
   "id": "5a626563",
   "metadata": {
    "execution": {
     "iopub.execute_input": "2024-01-15T14:24:08.830442Z",
     "iopub.status.busy": "2024-01-15T14:24:08.829994Z",
     "iopub.status.idle": "2024-01-15T14:24:08.953232Z",
     "shell.execute_reply": "2024-01-15T14:24:08.951810Z"
    },
    "papermill": {
     "duration": 0.13617,
     "end_time": "2024-01-15T14:24:08.956728",
     "exception": false,
     "start_time": "2024-01-15T14:24:08.820558",
     "status": "completed"
    },
    "tags": []
   },
   "outputs": [],
   "source": [
    "# Importing model\n",
    "from sklearn.linear_model import LinearRegression"
   ]
  },
  {
   "cell_type": "markdown",
   "id": "2ca3d4eb",
   "metadata": {
    "papermill": {
     "duration": 0.007339,
     "end_time": "2024-01-15T14:24:08.971771",
     "exception": false,
     "start_time": "2024-01-15T14:24:08.964432",
     "status": "completed"
    },
    "tags": []
   },
   "source": [
    "## Liner Regression Model"
   ]
  },
  {
   "cell_type": "code",
   "execution_count": 8,
   "id": "8ea20c3c",
   "metadata": {
    "execution": {
     "iopub.execute_input": "2024-01-15T14:24:08.990780Z",
     "iopub.status.busy": "2024-01-15T14:24:08.990238Z",
     "iopub.status.idle": "2024-01-15T14:24:08.996583Z",
     "shell.execute_reply": "2024-01-15T14:24:08.994856Z"
    },
    "papermill": {
     "duration": 0.019146,
     "end_time": "2024-01-15T14:24:08.999834",
     "exception": false,
     "start_time": "2024-01-15T14:24:08.980688",
     "status": "completed"
    },
    "tags": []
   },
   "outputs": [],
   "source": [
    "# Object of Model\n",
    "lr=LinearRegression()"
   ]
  },
  {
   "cell_type": "code",
   "execution_count": 9,
   "id": "121c0f36",
   "metadata": {
    "execution": {
     "iopub.execute_input": "2024-01-15T14:24:09.018811Z",
     "iopub.status.busy": "2024-01-15T14:24:09.018301Z",
     "iopub.status.idle": "2024-01-15T14:24:09.044183Z",
     "shell.execute_reply": "2024-01-15T14:24:09.042837Z"
    },
    "papermill": {
     "duration": 0.03887,
     "end_time": "2024-01-15T14:24:09.047510",
     "exception": false,
     "start_time": "2024-01-15T14:24:09.008640",
     "status": "completed"
    },
    "tags": []
   },
   "outputs": [
    {
     "data": {
      "text/html": [
       "<style>#sk-container-id-1 {color: black;background-color: white;}#sk-container-id-1 pre{padding: 0;}#sk-container-id-1 div.sk-toggleable {background-color: white;}#sk-container-id-1 label.sk-toggleable__label {cursor: pointer;display: block;width: 100%;margin-bottom: 0;padding: 0.3em;box-sizing: border-box;text-align: center;}#sk-container-id-1 label.sk-toggleable__label-arrow:before {content: \"▸\";float: left;margin-right: 0.25em;color: #696969;}#sk-container-id-1 label.sk-toggleable__label-arrow:hover:before {color: black;}#sk-container-id-1 div.sk-estimator:hover label.sk-toggleable__label-arrow:before {color: black;}#sk-container-id-1 div.sk-toggleable__content {max-height: 0;max-width: 0;overflow: hidden;text-align: left;background-color: #f0f8ff;}#sk-container-id-1 div.sk-toggleable__content pre {margin: 0.2em;color: black;border-radius: 0.25em;background-color: #f0f8ff;}#sk-container-id-1 input.sk-toggleable__control:checked~div.sk-toggleable__content {max-height: 200px;max-width: 100%;overflow: auto;}#sk-container-id-1 input.sk-toggleable__control:checked~label.sk-toggleable__label-arrow:before {content: \"▾\";}#sk-container-id-1 div.sk-estimator input.sk-toggleable__control:checked~label.sk-toggleable__label {background-color: #d4ebff;}#sk-container-id-1 div.sk-label input.sk-toggleable__control:checked~label.sk-toggleable__label {background-color: #d4ebff;}#sk-container-id-1 input.sk-hidden--visually {border: 0;clip: rect(1px 1px 1px 1px);clip: rect(1px, 1px, 1px, 1px);height: 1px;margin: -1px;overflow: hidden;padding: 0;position: absolute;width: 1px;}#sk-container-id-1 div.sk-estimator {font-family: monospace;background-color: #f0f8ff;border: 1px dotted black;border-radius: 0.25em;box-sizing: border-box;margin-bottom: 0.5em;}#sk-container-id-1 div.sk-estimator:hover {background-color: #d4ebff;}#sk-container-id-1 div.sk-parallel-item::after {content: \"\";width: 100%;border-bottom: 1px solid gray;flex-grow: 1;}#sk-container-id-1 div.sk-label:hover label.sk-toggleable__label {background-color: #d4ebff;}#sk-container-id-1 div.sk-serial::before {content: \"\";position: absolute;border-left: 1px solid gray;box-sizing: border-box;top: 0;bottom: 0;left: 50%;z-index: 0;}#sk-container-id-1 div.sk-serial {display: flex;flex-direction: column;align-items: center;background-color: white;padding-right: 0.2em;padding-left: 0.2em;position: relative;}#sk-container-id-1 div.sk-item {position: relative;z-index: 1;}#sk-container-id-1 div.sk-parallel {display: flex;align-items: stretch;justify-content: center;background-color: white;position: relative;}#sk-container-id-1 div.sk-item::before, #sk-container-id-1 div.sk-parallel-item::before {content: \"\";position: absolute;border-left: 1px solid gray;box-sizing: border-box;top: 0;bottom: 0;left: 50%;z-index: -1;}#sk-container-id-1 div.sk-parallel-item {display: flex;flex-direction: column;z-index: 1;position: relative;background-color: white;}#sk-container-id-1 div.sk-parallel-item:first-child::after {align-self: flex-end;width: 50%;}#sk-container-id-1 div.sk-parallel-item:last-child::after {align-self: flex-start;width: 50%;}#sk-container-id-1 div.sk-parallel-item:only-child::after {width: 0;}#sk-container-id-1 div.sk-dashed-wrapped {border: 1px dashed gray;margin: 0 0.4em 0.5em 0.4em;box-sizing: border-box;padding-bottom: 0.4em;background-color: white;}#sk-container-id-1 div.sk-label label {font-family: monospace;font-weight: bold;display: inline-block;line-height: 1.2em;}#sk-container-id-1 div.sk-label-container {text-align: center;}#sk-container-id-1 div.sk-container {/* jupyter's `normalize.less` sets `[hidden] { display: none; }` but bootstrap.min.css set `[hidden] { display: none !important; }` so we also need the `!important` here to be able to override the default hidden behavior on the sphinx rendered scikit-learn.org. See: https://github.com/scikit-learn/scikit-learn/issues/21755 */display: inline-block !important;position: relative;}#sk-container-id-1 div.sk-text-repr-fallback {display: none;}</style><div id=\"sk-container-id-1\" class=\"sk-top-container\"><div class=\"sk-text-repr-fallback\"><pre>LinearRegression()</pre><b>In a Jupyter environment, please rerun this cell to show the HTML representation or trust the notebook. <br />On GitHub, the HTML representation is unable to render, please try loading this page with nbviewer.org.</b></div><div class=\"sk-container\" hidden><div class=\"sk-item\"><div class=\"sk-estimator sk-toggleable\"><input class=\"sk-toggleable__control sk-hidden--visually\" id=\"sk-estimator-id-1\" type=\"checkbox\" checked><label for=\"sk-estimator-id-1\" class=\"sk-toggleable__label sk-toggleable__label-arrow\">LinearRegression</label><div class=\"sk-toggleable__content\"><pre>LinearRegression()</pre></div></div></div></div></div>"
      ],
      "text/plain": [
       "LinearRegression()"
      ]
     },
     "execution_count": 9,
     "metadata": {},
     "output_type": "execute_result"
    }
   ],
   "source": [
    "# Fit function inside model\n",
    "lr.fit(X_train,y_train)"
   ]
  },
  {
   "cell_type": "code",
   "execution_count": 10,
   "id": "81ebb6c1",
   "metadata": {
    "execution": {
     "iopub.execute_input": "2024-01-15T14:24:09.067273Z",
     "iopub.status.busy": "2024-01-15T14:24:09.066492Z",
     "iopub.status.idle": "2024-01-15T14:24:09.079444Z",
     "shell.execute_reply": "2024-01-15T14:24:09.077897Z"
    },
    "papermill": {
     "duration": 0.026094,
     "end_time": "2024-01-15T14:24:09.082034",
     "exception": false,
     "start_time": "2024-01-15T14:24:09.055940",
     "status": "completed"
    },
    "tags": []
   },
   "outputs": [
    {
     "name": "stderr",
     "output_type": "stream",
     "text": [
      "/opt/conda/lib/python3.10/site-packages/sklearn/base.py:439: UserWarning: X does not have valid feature names, but LinearRegression was fitted with feature names\n",
      "  warnings.warn(\n"
     ]
    },
    {
     "data": {
      "text/plain": [
       "array([73398.13310153])"
      ]
     },
     "execution_count": 10,
     "metadata": {},
     "output_type": "execute_result"
    }
   ],
   "source": [
    "# Predict Fucntion\n",
    "lr.predict([[5.2]])"
   ]
  },
  {
   "cell_type": "code",
   "execution_count": 11,
   "id": "4dbd2a09",
   "metadata": {
    "execution": {
     "iopub.execute_input": "2024-01-15T14:24:09.100411Z",
     "iopub.status.busy": "2024-01-15T14:24:09.099953Z",
     "iopub.status.idle": "2024-01-15T14:24:09.104967Z",
     "shell.execute_reply": "2024-01-15T14:24:09.104040Z"
    },
    "papermill": {
     "duration": 0.017829,
     "end_time": "2024-01-15T14:24:09.107729",
     "exception": false,
     "start_time": "2024-01-15T14:24:09.089900",
     "status": "completed"
    },
    "tags": []
   },
   "outputs": [],
   "source": [
    "# Getting slope and intercept\n",
    "m=lr.coef_\n",
    "b=lr.intercept_"
   ]
  },
  {
   "cell_type": "markdown",
   "id": "184a31f0",
   "metadata": {
    "execution": {
     "iopub.execute_input": "2024-01-15T13:06:53.522677Z",
     "iopub.status.busy": "2024-01-15T13:06:53.521631Z",
     "iopub.status.idle": "2024-01-15T13:06:53.529428Z",
     "shell.execute_reply": "2024-01-15T13:06:53.527880Z",
     "shell.execute_reply.started": "2024-01-15T13:06:53.522627Z"
    },
    "papermill": {
     "duration": 0.007676,
     "end_time": "2024-01-15T14:24:09.124659",
     "exception": false,
     "start_time": "2024-01-15T14:24:09.116983",
     "status": "completed"
    },
    "tags": []
   },
   "source": [
    "Formulation  \n",
    "$y= m*x+ b$  \n",
    "$Salary= m*(YearsExperience)+ b$"
   ]
  },
  {
   "cell_type": "code",
   "execution_count": 12,
   "id": "5a7b5668",
   "metadata": {
    "execution": {
     "iopub.execute_input": "2024-01-15T14:24:09.143392Z",
     "iopub.status.busy": "2024-01-15T14:24:09.142251Z",
     "iopub.status.idle": "2024-01-15T14:24:09.444895Z",
     "shell.execute_reply": "2024-01-15T14:24:09.443771Z"
    },
    "papermill": {
     "duration": 0.315091,
     "end_time": "2024-01-15T14:24:09.447748",
     "exception": false,
     "start_time": "2024-01-15T14:24:09.132657",
     "status": "completed"
    },
    "tags": []
   },
   "outputs": [
    {
     "data": {
      "text/plain": [
       "Text(0, 0.5, 'Salary in LPA')"
      ]
     },
     "execution_count": 12,
     "metadata": {},
     "output_type": "execute_result"
    },
    {
     "data": {
      "image/png": "[encoded data removed]",
      "text/plain": [
       "<Figure size 640x480 with 1 Axes>"
      ]
     },
     "metadata": {},
     "output_type": "display_data"
    }
   ],
   "source": [
    "plt.scatter(x=df['YearsExperience'],y=df['Salary'],color='red') # plt.scatter(X,Y)->Scatter Plot\n",
    "plt.plot(X_test,lr.predict(X_test))  #plt.plot(X,Y)->Line\n",
    "plt.xlabel('Year of Experience')\n",
    "plt.ylabel('Salary in LPA')"
   ]
  },
  {
   "cell_type": "markdown",
   "id": "d4bdd472",
   "metadata": {
    "papermill": {
     "duration": 0.008665,
     "end_time": "2024-01-15T14:24:09.464927",
     "exception": false,
     "start_time": "2024-01-15T14:24:09.456262",
     "status": "completed"
    },
    "tags": []
   },
   "source": [
    "Summary:\n",
    "+ $X and Y$  \n",
    "+ $Y= m*x + b$  \n",
    "+ $LinearRegression()$  \n",
    "+ $lr.fit()$  \n",
    "+ $lr.predict()$  \n",
    "+ $m= lr.coef_$  \n",
    "+ $b= lr.intercept_$  "
   ]
  }
 ],
 "metadata": {
  "kaggle": {
   "accelerator": "none",
   "dataSources": [
    {
     "datasetId": 2799910,
     "sourceId": 4832081,
     "sourceType": "datasetVersion"
    }
   ],
   "dockerImageVersionId": 30635,
   "isGpuEnabled": false,
   "isInternetEnabled": true,
   "language": "python",
   "sourceType": "notebook"
  },
  "kernelspec": {
   "display_name": "Python 3",
   "language": "python",
   "name": "python3"
  },
  "language_info": {
   "codemirror_mode": {
    "name": "ipython",
    "version": 3
   },
   "file_extension": ".py",
   "mimetype": "text/x-python",
   "name": "python",
   "nbconvert_exporter": "python",
   "pygments_lexer": "ipython3",
   "version": "3.10.12"
  },
  "papermill": {
   "default_parameters": {},
   "duration": 7.75428,
   "end_time": "2024-01-15T14:24:10.197462",
   "environment_variables": {},
   "exception": null,
   "input_path": "__notebook__.ipynb",
   "output_path": "__notebook__.ipynb",
   "parameters": {},
   "start_time": "2024-01-15T14:24:02.443182",
   "version": "2.4.0"
  }
 },
 "nbformat": 4,
 "nbformat_minor": 5
}
